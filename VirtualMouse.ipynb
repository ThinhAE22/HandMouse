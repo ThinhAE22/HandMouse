{
 "cells": [
  {
   "cell_type": "code",
   "execution_count": 12,
   "id": "0581e2ec-2f8c-436e-b595-a3cd35c590cb",
   "metadata": {},
   "outputs": [],
   "source": [
    "import cv2\n",
    "import numpy as np\n",
    "import HandTrackingModule as htm\n",
    "import time\n",
    "import autopy"
   ]
  },
  {
   "cell_type": "code",
   "execution_count": 13,
   "id": "c7101b29-9681-4b80-bb5a-6f6b990b3ed4",
   "metadata": {},
   "outputs": [
    {
     "name": "stdout",
     "output_type": "stream",
     "text": [
      "1920\n",
      "1080\n"
     ]
    }
   ],
   "source": [
    "wCam,hCam = 640,480\n",
    "frameR = 100 # frame reduction\n",
    "wScr = 1920 \n",
    "hScr = 1080\n",
    "smoothening = 6\n",
    "print(wScr)\n",
    "print(hScr)"
   ]
  },
  {
   "cell_type": "code",
   "execution_count": 14,
   "id": "09036fa3-8585-42d6-92a1-879e1336340f",
   "metadata": {},
   "outputs": [],
   "source": [
    "pTime = 0\n",
    "pLocX, pLocY = 0,0\n",
    "cLocX, cLocY = 0,0\n",
    "\n",
    "detector = htm.handDetector(maxHands=1)"
   ]
  },
  {
   "cell_type": "code",
   "execution_count": 15,
   "id": "300a6482-3a2c-4cd8-a114-3ba014c27920",
   "metadata": {},
   "outputs": [],
   "source": [
    "cap = cv2.VideoCapture(0)\n",
    "cap.set(3, wCam)\n",
    "cap.set(4, hCam)\n",
    "\n",
    "while True:\n",
    "    #1. Find hand landmark\n",
    "    # 1. Find hand landmark\n",
    "    success, img = cap.read()\n",
    "    \n",
    "    # Check if the image was captured successfully\n",
    "    if not success or img is None:\n",
    "        print(\"Failed to capture image\")\n",
    "        break\n",
    "\n",
    "    img = detector.findHands(img)\n",
    "    lmList, bbox = detector.findPosition(img)\n",
    " \n",
    "    #2. Get the tip of index and middle finger\n",
    "    if len(lmList) != 0:\n",
    "        x1, y1 = lmList[8][1:]\n",
    "        x2, y2 = lmList[12][1:]\n",
    "        \n",
    "        #print(x1,y1,x2,y2)\n",
    "    \n",
    "    #3. Check which finger are up\n",
    "    fingers = detector.fingersUp()\n",
    "    #print(fingers)\n",
    "    #4. Only Index finger: Moving mode condition define\n",
    "    cv2.rectangle(img,(frameR,frameR),(wCam - frameR, hCam -frameR), (255,0,255), 2)\n",
    "    if len(fingers) >= 3 and fingers[1] == 1 and fingers[2] == 0:\n",
    "        #print(\"ok\")\n",
    "        #5. Conver coordinate (screen resolution depends)\n",
    "        x3 = np.interp(x1, (frameR, wCam - frameR),(0,wScr))\n",
    "        y3 = np.interp(y1, (frameR, hCam - frameR),(0,hScr))\n",
    "        #6. Smooth the value\n",
    "        cLocX = pLocX + (x3-pLocX) /smoothening\n",
    "        cLocY = pLocY + (y3-pLocY) /smoothening\n",
    "        #7. move mouse\n",
    "        autopy.mouse.move(wScr - cLocX, cLocY)\n",
    "        cv2.circle(img, (x1,y1), 15, (255,0,255), cv2.FILLED) #moving mode enable recognition\n",
    "        pLocX,pLocY = cLocX, cLocY\n",
    "\n",
    "\n",
    "    \n",
    "    #8 Both finger up = clicking mode\n",
    "    if len(fingers) >= 3 and fingers[1] == 1 and fingers[2] == 1:\n",
    "        length, img, lineInfo = detector.findDistance(8, 12, img)\n",
    "        #print(length)\n",
    "        #9. Check Distance\n",
    "        if length < 16:\n",
    "            cv2.circle(img, (lineInfo[4],lineInfo[5]), 15, (0,255,0), cv2.FILLED)\n",
    "            #10 Click mouse if distance short\n",
    "            autopy.mouse.click()\n",
    "        #5. Conver coordinate (screen resolution depends)\n",
    "        x3 = np.interp(x1, (frameR, wCam - frameR),(0,wScr))\n",
    "        y3 = np.interp(y1, (frameR, hCam - frameR),(0,hScr))\n",
    "        #6. Smooth the value\n",
    "        cLocX = pLocX + (x3-pLocX) /smoothening\n",
    "        cLocY = pLocY + (y3-pLocY) /smoothening\n",
    "        #7. move mouse\n",
    "        autopy.mouse.move(wScr - cLocX, cLocY)\n",
    "        cv2.circle(img, (x1,y1), 15, (255,0,255), cv2.FILLED) #moving mode enable recognition\n",
    "        pLocX,pLocY = cLocX, cLocY\n",
    "    \n",
    "    \n",
    "    #11 Frame rate\n",
    "    cTime = time.time()\n",
    "    fps = 1/(cTime-pTime)\n",
    "    pTime = cTime\n",
    "    cv2.putText(img,str(int(fps)),(20,50), cv2.FONT_HERSHEY_PLAIN,3,(255,0,0),3)\n",
    "    \n",
    "    #12 display\n",
    "    cv2.imshow(\"image\", img)\n",
    "\n",
    "    # Exit the loop on ESC key press\n",
    "    k = cv2.waitKey(1) & 0xFF\n",
    "    if k == 27:  # Escape key\n",
    "        break\n",
    "\n",
    "# Release the camera and close the windows\n",
    "cap.release()\n",
    "cv2.destroyAllWindows()\n"
   ]
  },
  {
   "cell_type": "code",
   "execution_count": null,
   "id": "abb0e03b-b8cb-48ab-80a0-136d99a6bf57",
   "metadata": {},
   "outputs": [],
   "source": []
  },
  {
   "cell_type": "code",
   "execution_count": null,
   "id": "777009a1-63ae-452b-a67a-6a4fdb1b4029",
   "metadata": {},
   "outputs": [],
   "source": []
  }
 ],
 "metadata": {
  "kernelspec": {
   "display_name": "Python 3 (ipykernel)",
   "language": "python",
   "name": "python3"
  },
  "language_info": {
   "codemirror_mode": {
    "name": "ipython",
    "version": 3
   },
   "file_extension": ".py",
   "mimetype": "text/x-python",
   "name": "python",
   "nbconvert_exporter": "python",
   "pygments_lexer": "ipython3",
   "version": "3.8.15"
  }
 },
 "nbformat": 4,
 "nbformat_minor": 5
}
